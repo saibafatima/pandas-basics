{
 "cells": [
  {
   "cell_type": "code",
   "execution_count": 1,
   "id": "4c78fe86-6a04-4f68-99a0-9dd181b9d3ab",
   "metadata": {},
   "outputs": [
    {
     "name": "stdout",
     "output_type": "stream",
     "text": [
      "0     4\n",
      "1     8\n",
      "2    15\n",
      "3    16\n",
      "4    23\n",
      "5    42\n",
      "dtype: int64\n"
     ]
    }
   ],
   "source": [
    "#Q1. Create a Pandas Series that contains the following data: 4, 8, 15, 16, 23, and 42. Then, print the series.\n",
    "import pandas as pd\n",
    "\n",
    "series = pd.Series([4, 8, 15, 16, 23, 42])\n",
    "print(series)"
   ]
  },
  {
   "cell_type": "code",
   "execution_count": 2,
   "id": "d023a7b1-86b1-4135-b43f-ff5e2c1e45fd",
   "metadata": {},
   "outputs": [
    {
     "name": "stdout",
     "output_type": "stream",
     "text": [
      "0     1\n",
      "1     2\n",
      "2     3\n",
      "3     4\n",
      "4     5\n",
      "5     6\n",
      "6     7\n",
      "7     8\n",
      "8     9\n",
      "9    10\n",
      "dtype: int64\n"
     ]
    }
   ],
   "source": [
    "#Q2. Create a variable of list type containing 10 elements in it, and apply pandas.Series function on the variable print it.\n",
    "\n",
    "import pandas as pd\n",
    "\n",
    "my_list = [1, 2, 3, 4, 5, 6, 7, 8, 9, 10]\n",
    "series = pd.Series(my_list)\n",
    "print(series)"
   ]
  },
  {
   "cell_type": "code",
   "execution_count": 3,
   "id": "ce3ba678-bfff-4c1e-96a6-0eecc466407b",
   "metadata": {},
   "outputs": [
    {
     "name": "stdout",
     "output_type": "stream",
     "text": [
      "    Name  Age  Score\n",
      "0   John   25     90\n",
      "1   Mary   31     85\n",
      "2  David   42     88\n",
      "3   Jane   28     92\n"
     ]
    }
   ],
   "source": [
    "#Q3. Create a Pandas DataFrame that contains the following data:\n",
    "\n",
    "import pandas as pd\n",
    "\n",
    "data = {'Name': ['John', 'Mary', 'David', 'Jane'],\n",
    "        'Age': [25, 31, 42, 28],\n",
    "        'Score': [90, 85, 88, 92]}\n",
    "df = pd.DataFrame(data)\n",
    "print(df)"
   ]
  },
  {
   "cell_type": "code",
   "execution_count": 5,
   "id": "0fe4b130-e086-48a6-a8ee-e89517b3ec70",
   "metadata": {},
   "outputs": [
    {
     "ename": "SyntaxError",
     "evalue": "unterminated string literal (detected at line 8) (1814244729.py, line 8)",
     "output_type": "error",
     "traceback": [
      "\u001b[0;36m  Cell \u001b[0;32mIn[5], line 8\u001b[0;36m\u001b[0m\n\u001b[0;31m    Here's an example to illustrate the difference:\u001b[0m\n\u001b[0m        ^\u001b[0m\n\u001b[0;31mSyntaxError\u001b[0m\u001b[0;31m:\u001b[0m unterminated string literal (detected at line 8)\n"
     ]
    }
   ],
   "source": [
    "#Q4. What is ‘DataFrame’ in pandas and how is it different from pandas.Series? Explain with an example.\n",
    "\n",
    "\n",
    "A Pandas DataFrame is a 2-dimensional labeled data structure with columns of potentially different types. It is similar to an Excel spreadsheet or a table in a relational database.\n",
    "\n",
    "A Pandas Series, on the other hand, is a 1-dimensional labeled array capable of holding any data type (integer, string, float, etc.).\n",
    "\n",
    "Here's an example to illustrate the difference:\n",
    "\n",
    "\n"
   ]
  },
  {
   "cell_type": "code",
   "execution_count": 6,
   "id": "692cac66-5587-4550-8ab7-32322ca509e4",
   "metadata": {},
   "outputs": [
    {
     "name": "stdout",
     "output_type": "stream",
     "text": [
      "0    1\n",
      "1    2\n",
      "2    3\n",
      "3    4\n",
      "4    5\n",
      "dtype: int64\n",
      "   A  B  C\n",
      "0  1  4  7\n",
      "1  2  5  8\n",
      "2  3  6  9\n"
     ]
    }
   ],
   "source": [
    "import pandas as pd\n",
    "\n",
    "# Create a Series\n",
    "series = pd.Series([1, 2, 3, 4, 5])\n",
    "print(series)\n",
    "\n",
    "# Create a DataFrame\n",
    "data = {'A': [1, 2, 3], 'B': [4, 5, 6], 'C': [7, 8, 9]}\n",
    "df = pd.DataFrame(data)\n",
    "print(df)"
   ]
  },
  {
   "cell_type": "code",
   "execution_count": 7,
   "id": "e46bea68-64dc-4320-9433-4842bbf07b9e",
   "metadata": {},
   "outputs": [
    {
     "ename": "SyntaxError",
     "evalue": "invalid syntax (2158734602.py, line 3)",
     "output_type": "error",
     "traceback": [
      "\u001b[0;36m  Cell \u001b[0;32mIn[7], line 3\u001b[0;36m\u001b[0m\n\u001b[0;31m    Some common functions to manipulate data in a Pandas DataFrame include:\u001b[0m\n\u001b[0m         ^\u001b[0m\n\u001b[0;31mSyntaxError\u001b[0m\u001b[0;31m:\u001b[0m invalid syntax\n"
     ]
    }
   ],
   "source": [
    "Q5. What are some common functions you can use to manipulate data in a Pandas DataFrame? Can you give an example of when you might use one of these functions?\n",
    "\n",
    "Some common functions to manipulate data in a Pandas DataFrame include:\n",
    "\n",
    "drop(): Drop rows or columns from the DataFrame.\n",
    "filter(): Filter rows based on a condition.\n",
    "groupby(): Group data by one or more columns and perform aggregation operations.\n",
    "merge(): Merge two DataFrames based on a common column.\n",
    "pivot_table(): Create a pivot table from a DataFrame.\n",
    "sort_values(): Sort the DataFrame by one or more columns.\n",
    "apply(): Apply a function to each row or column of the DataFrame.\n",
    "Example:"
   ]
  },
  {
   "cell_type": "code",
   "execution_count": 8,
   "id": "e764feac-78d9-403a-bd3d-1a9f35c6b61d",
   "metadata": {},
   "outputs": [
    {
     "name": "stdout",
     "output_type": "stream",
     "text": [
      "   Name  Age  Score\n",
      "0  John   25     90\n",
      "3  Jane   28     92\n",
      "   Name  Age  Score\n",
      "3  Jane   28     92\n"
     ]
    }
   ],
   "source": [
    "import pandas as pd\n",
    "\n",
    "data = {'Name': ['John', 'Mary', 'David', 'Jane'],\n",
    "        'Age': [25, 31, 42, 28],\n",
    "        'Score': [90, 85, 88, 92]}\n",
    "df = pd.DataFrame(data)\n",
    "\n",
    "# Drop rows where Age is greater than 30\n",
    "df_dropped = df.drop(df[df['Age'] > 30].index)\n",
    "print(df_dropped)\n",
    "\n",
    "# Filter rows where Score is greater than 90\n",
    "df_filtered = df[df['Score'] > 90]\n",
    "print(df_filtered)"
   ]
  },
  {
   "cell_type": "code",
   "execution_count": 9,
   "id": "8b9cfa18-1f30-4c60-8256-37e1352816dd",
   "metadata": {},
   "outputs": [
    {
     "ename": "SyntaxError",
     "evalue": "invalid syntax (3666402687.py, line 3)",
     "output_type": "error",
     "traceback": [
      "\u001b[0;36m  Cell \u001b[0;32mIn[9], line 3\u001b[0;36m\u001b[0m\n\u001b[0;31m    All three - Series, DataFrame, and Panel - are mutable in nature. This means that you can modify their contents after creation.\u001b[0m\n\u001b[0m        ^\u001b[0m\n\u001b[0;31mSyntaxError\u001b[0m\u001b[0;31m:\u001b[0m invalid syntax\n"
     ]
    }
   ],
   "source": [
    "Q6. Which of the following is mutable in nature Series, DataFrame, Panel?\n",
    "\n",
    "All three - Series, DataFrame, and Panel - are mutable in nature. This means that you can modify their contents after creation."
   ]
  },
  {
   "cell_type": "code",
   "execution_count": 10,
   "id": "73042350-52c8-4dc5-9db5-fbc774d530fb",
   "metadata": {},
   "outputs": [
    {
     "name": "stdout",
     "output_type": "stream",
     "text": [
      "   A   B   C\n",
      "0  1   6  11\n",
      "1  2   7  12\n",
      "2  3   8  13\n",
      "3  4   9  14\n",
      "4  5  10  15\n"
     ]
    }
   ],
   "source": [
    "#Q7. Create a DataFrame using multiple Series. Explain with an example.\n",
    "\n",
    "import pandas as pd\n",
    "\n",
    "# Create three Series\n",
    "series1 = pd.Series([1, 2, 3, 4, 5], name='A')\n",
    "series2 = pd.Series([6, 7, 8, 9, 10], name='B')\n",
    "series3 = pd.Series([11, 12, 13, 14, 15], name='C')\n",
    "\n",
    "# Create a DataFrame using the three Series\n",
    "df = pd.DataFrame({series1.name: series1, series2.name: series2, series3.name: series3})\n",
    "\n",
    "print(df)"
   ]
  },
  {
   "cell_type": "code",
   "execution_count": null,
   "id": "1686d44c-14f5-4099-9764-05c2fda8a7b3",
   "metadata": {},
   "outputs": [],
   "source": []
  }
 ],
 "metadata": {
  "kernelspec": {
   "display_name": "Python 3 (ipykernel)",
   "language": "python",
   "name": "python3"
  },
  "language_info": {
   "codemirror_mode": {
    "name": "ipython",
    "version": 3
   },
   "file_extension": ".py",
   "mimetype": "text/x-python",
   "name": "python",
   "nbconvert_exporter": "python",
   "pygments_lexer": "ipython3",
   "version": "3.10.8"
  }
 },
 "nbformat": 4,
 "nbformat_minor": 5
}
